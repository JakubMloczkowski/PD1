{
 "cells": [
  {
   "cell_type": "code",
   "execution_count": 1,
   "id": "0723763a-f580-4681-9ff1-e9e068c04e49",
   "metadata": {},
   "outputs": [
    {
     "name": "stdout",
     "output_type": "stream",
     "text": [
      "Writing app1.py\n"
     ]
    }
   ],
   "source": [
    "%%file app1.py\n",
    "from flask import Flask, jsonify\n",
    "\n",
    "app = Flask(__name__)\n",
    "\n",
    "@app.route('/')\n",
    "def home():\n",
    "    return jsonify({\"Witaj w moim API!\"})\n",
    "\n",
    "if __name__ == '__main__':\n",
    "    app.run()"
   ]
  },
  {
   "cell_type": "code",
   "execution_count": null,
   "id": "5d408814-284c-4c2c-84eb-81285004b69c",
   "metadata": {},
   "outputs": [],
   "source": [
    "import requests\n",
    "\n",
    "response = requests.get(\"http://127.0.0.1:5000/\")\n",
    "if response.status_code == 200:\n",
    "    print(response.content.decode())\n",
    "else:\n",
    "    print(f\"Błąd: {response.status_code}\")"
   ]
  },
  {
   "cell_type": "markdown",
   "id": "d939d221",
   "metadata": {},
   "source": [
    "# Dodanie nowej podstrony"
   ]
  },
  {
   "cell_type": "code",
   "execution_count": null,
   "id": "3890cbb8",
   "metadata": {},
   "outputs": [],
   "source": [
    "%%file app2.py\n",
    "from flask import Flask, jsonify\n",
    "\n",
    "app = Flask(__name__)\n",
    "\n",
    "@app.route('/')\n",
    "def home():\n",
    "    return jsonify({\"message\": \"Witaj w moim API!\"})\n",
    "\n",
    "@app.route('/mojastrona')\n",
    "def moja_strona():\n",
    "    return jsonify({\"message\": \"To jest moja strona!\"})\n",
    "\n",
    "if __name__ == '__main__':\n",
    "    app.run()"
   ]
  },
  {
   "cell_type": "code",
   "execution_count": null,
   "id": "089947b4",
   "metadata": {},
   "outputs": [],
   "source": [
    "import requests\n",
    "\n",
    "response = requests.get(\"http://127.0.0.1:5000/mojastrona\")\n",
    "if response.status_code == 200:\n",
    "    print(response.content.decode())\n",
    "else:\n",
    "    print(f\"Błąd: {response.status_code}\")"
   ]
  },
  {
   "cell_type": "code",
   "execution_count": null,
   "id": "c95aebc0",
   "metadata": {},
   "outputs": [],
   "source": [
    "import subprocess\n",
    "\n",
    "server = subprocess.Popen([\"python\", \"app2.py\"])"
   ]
  },
  {
   "cell_type": "code",
   "execution_count": null,
   "id": "6cdd839f",
   "metadata": {},
   "outputs": [],
   "source": [
    "server.kill()"
   ]
  },
  {
   "cell_type": "markdown",
   "id": "13e2f5bd",
   "metadata": {},
   "source": [
    "#  Obsługa parametrów w adresie URL"
   ]
  },
  {
   "cell_type": "code",
   "execution_count": null,
   "id": "45a0cd69",
   "metadata": {},
   "outputs": [],
   "source": [
    "%%file app3.py\n",
    "from flask import Flask, jsonify, request\n",
    "\n",
    "app = Flask(__name__)\n",
    "\n",
    "@app.route('/')\n",
    "def home():\n",
    "    return jsonify({\"message\": \"Witaj w moim API!\"})\n",
    "\n",
    "@app.route('/mojastrona')\n",
    "def moja_strona():\n",
    "    return jsonify({\"message\": \"To jest moja strona!\"})\n",
    "\n",
    "@app.route('/hello')\n",
    "def hello():\n",
    "    name = request.args.get(\"name\", default=\"\")\n",
    "    if name:\n",
    "        return f\"Hello {name}!\"\n",
    "    return \"Hello!\"\n",
    "\n",
    "if __name__ == '__main__':\n",
    "    app.run()"
   ]
  },
  {
   "cell_type": "code",
   "execution_count": null,
   "id": "d96d350c",
   "metadata": {},
   "outputs": [],
   "source": [
    "res1 = requests.get(\"http://127.0.0.1:5000/hello\")\n",
    "print(res1.content)"
   ]
  },
  {
   "cell_type": "code",
   "execution_count": null,
   "id": "b090ec83",
   "metadata": {},
   "outputs": [],
   "source": [
    "res2 = requests.get(\"http://127.0.0.1:5000/hello?name=Sebastian\")\n",
    "print(res2.content)"
   ]
  },
  {
   "cell_type": "markdown",
   "id": "f916cbb4",
   "metadata": {},
   "source": [
    "# Tworzenie API z prostym modelem ML"
   ]
  },
  {
   "cell_type": "code",
   "execution_count": null,
   "id": "9b8dab86",
   "metadata": {},
   "outputs": [],
   "source": [
    "%%file app.py\n",
    "from flask import Flask, jsonify, request\n",
    "\n",
    "app = Flask(__name__)\n",
    "\n",
    "@app.route('/')\n",
    "def home():\n",
    "    return jsonify({\"message\": \"Witaj w moim API!\"})\n",
    "\n",
    "@app.route('/mojastrona')\n",
    "def moja_strona():\n",
    "    return jsonify({\"message\": \"To jest moja strona!\"})\n",
    "\n",
    "@app.route('/hello')\n",
    "def hello():\n",
    "    name = request.args.get(\"name\", default=\"\")\n",
    "    if name:\n",
    "        return f\"Hello {name}!\"\n",
    "    return \"Hello!\"\n",
    "\n",
    "@app.route('/api/v1.0/predict')\n",
    "def predict():\n",
    "    try:\n",
    "        a = float(request.args.get('a', 0))\n",
    "        b = float(request.args.get('b', 0)) \n",
    "        if (a+b) > 5.8:\n",
    "            wynik = 1\n",
    "        else:\n",
    "            wynik = 0\n",
    "            \n",
    "        return jsonify({\n",
    "            \"wynik\": wynik,\n",
    "            \"dane\": {\n",
    "                \"num1\": a,\n",
    "                \"num2\": b }\n",
    "        })\n",
    "\n",
    "    except Exception as e:\n",
    "        return jsonify({\"error\": str(e)}), 400\n",
    "\n",
    "if __name__ == '__main__':\n",
    "    app.run()\n"
   ]
  },
  {
   "cell_type": "code",
   "execution_count": null,
   "id": "07f05bdc",
   "metadata": {},
   "outputs": [],
   "source": [
    "res = requests.get(\"http://127.0.0.1:5000/api/v1.0/predict?num1=3&num2=4\")\n",
    "print(res.json())"
   ]
  }
 ],
 "metadata": {
  "kernelspec": {
   "display_name": "Python 3 (ipykernel)",
   "language": "python",
   "name": "python3"
  },
  "language_info": {
   "codemirror_mode": {
    "name": "ipython",
    "version": 3
   },
   "file_extension": ".py",
   "mimetype": "text/x-python",
   "name": "python",
   "nbconvert_exporter": "python",
   "pygments_lexer": "ipython3",
   "version": "3.11.6"
  }
 },
 "nbformat": 4,
 "nbformat_minor": 5
}
